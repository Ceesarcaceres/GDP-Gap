{
 "cells": [
  {
   "cell_type": "markdown",
   "id": "193f11d0",
   "metadata": {},
   "source": [
    "### Data Organization\n",
    "Federal Reserve Economic Data, or FRED, is a project by the Economic Research department of the Federal Reserve Bank of St Louis. FRED collects over 200,000 U.S. and international economic time series, from 69 different sources, on a single website. Data coverage includes all major areas of macroeconomic analysis: growth, inflation, employment, interest rates, exchange rates, production and consumption, income and expenditure, savings and investment, and more.\n",
    "#### DESCRIPTION\n",
    "Growth, employment, inflation, labor, manufacturing and other US economic statistics from the research department of the Federal Reserve Bank of St. Louis.\n",
    "\n",
    "Note: This dataset is a free resource from https://data.nasdaq.com/data/FRED-federal-reserve-economic-data and contain all columns for FRED/GDPPOT with no filters applied. \n",
    "\n",
    "The data is adjusted to remove the effects of inflation."
   ]
  },
  {
   "cell_type": "markdown",
   "id": "eef98e00",
   "metadata": {},
   "source": [
    "### Real Potencial Gross Domestic Product\n",
    "\n",
    "This Analysis is to understand about the real potencial GDP and how CBO's estimative it's correct on premise that it's the real value of the GDP. \n",
    "The data is collected since January 1949, is a growth indicator about the GDP around the next years"
   ]
  },
  {
   "cell_type": "markdown",
   "id": "45550652",
   "metadata": {},
   "source": [
    "#### What is Real Potencial Gross Domestic Product ?\n",
    "\n",
    "Real potential GDP is the CBO’s estimate of the output the economy would produce with a high rate of use of its capital and labor resources. The data is adjusted to remove the effects of inflation."
   ]
  },
  {
   "cell_type": "code",
   "execution_count": 1,
   "id": "f3c1572e",
   "metadata": {},
   "outputs": [],
   "source": [
    "#!pip install nasdaq-data-link\n",
    "#!pip install quandl"
   ]
  },
  {
   "cell_type": "code",
   "execution_count": 2,
   "id": "8a070d98",
   "metadata": {},
   "outputs": [],
   "source": [
    "# Import \n",
    "import nasdaqdatalink\n",
    "import quandl"
   ]
  },
  {
   "cell_type": "code",
   "execution_count": 3,
   "id": "9e2ef652",
   "metadata": {},
   "outputs": [],
   "source": [
    "# getting the data from quandl API\n",
    "df = quandl.get('FRED/GDPPOT')"
   ]
  },
  {
   "cell_type": "code",
   "execution_count": 4,
   "id": "fec67dc4",
   "metadata": {},
   "outputs": [
    {
     "data": {
      "text/html": [
       "<div>\n",
       "<style scoped>\n",
       "    .dataframe tbody tr th:only-of-type {\n",
       "        vertical-align: middle;\n",
       "    }\n",
       "\n",
       "    .dataframe tbody tr th {\n",
       "        vertical-align: top;\n",
       "    }\n",
       "\n",
       "    .dataframe thead th {\n",
       "        text-align: right;\n",
       "    }\n",
       "</style>\n",
       "<table border=\"1\" class=\"dataframe\">\n",
       "  <thead>\n",
       "    <tr style=\"text-align: right;\">\n",
       "      <th></th>\n",
       "      <th>Value</th>\n",
       "    </tr>\n",
       "    <tr>\n",
       "      <th>Date</th>\n",
       "      <th></th>\n",
       "    </tr>\n",
       "  </thead>\n",
       "  <tbody>\n",
       "    <tr>\n",
       "      <th>1949-01-01</th>\n",
       "      <td>2102.982630</td>\n",
       "    </tr>\n",
       "    <tr>\n",
       "      <th>1949-04-01</th>\n",
       "      <td>2130.581305</td>\n",
       "    </tr>\n",
       "    <tr>\n",
       "      <th>1949-07-01</th>\n",
       "      <td>2159.340530</td>\n",
       "    </tr>\n",
       "    <tr>\n",
       "      <th>1949-10-01</th>\n",
       "      <td>2186.844859</td>\n",
       "    </tr>\n",
       "    <tr>\n",
       "      <th>1950-01-01</th>\n",
       "      <td>2216.058359</td>\n",
       "    </tr>\n",
       "  </tbody>\n",
       "</table>\n",
       "</div>"
      ],
      "text/plain": [
       "                  Value\n",
       "Date                   \n",
       "1949-01-01  2102.982630\n",
       "1949-04-01  2130.581305\n",
       "1949-07-01  2159.340530\n",
       "1949-10-01  2186.844859\n",
       "1950-01-01  2216.058359"
      ]
     },
     "execution_count": 4,
     "metadata": {},
     "output_type": "execute_result"
    }
   ],
   "source": [
    "# Verifing the first data from dataset\n",
    "df.head()"
   ]
  },
  {
   "cell_type": "code",
   "execution_count": 5,
   "id": "972c9ce7",
   "metadata": {},
   "outputs": [],
   "source": [
    "# Imports necessary frameworks\n",
    "import matplotlib.pyplot as plt\n",
    "import numpy as np\n",
    "import pandas as pd\n",
    "import matplotlib.dates as mdates\n",
    "import seaborn as sns"
   ]
  },
  {
   "cell_type": "code",
   "execution_count": 6,
   "id": "4e19fe53",
   "metadata": {},
   "outputs": [
    {
     "data": {
      "text/plain": [
       "Value    float64\n",
       "dtype: object"
      ]
     },
     "execution_count": 6,
     "metadata": {},
     "output_type": "execute_result"
    }
   ],
   "source": [
    "# Verifing the data types from df\n",
    "df.dtypes"
   ]
  },
  {
   "cell_type": "code",
   "execution_count": 7,
   "id": "ddad01cc",
   "metadata": {},
   "outputs": [],
   "source": [
    "# Reset index\n",
    "RGDP_df = df.reset_index()"
   ]
  },
  {
   "cell_type": "code",
   "execution_count": 8,
   "id": "d1ce6746",
   "metadata": {},
   "outputs": [],
   "source": [
    "# Set the values to plot in a graphic\n",
    "date_1 = RGDP_df[\"Date\"]\n",
    "value_RGDP = RGDP_df[\"Value\"]"
   ]
  },
  {
   "cell_type": "code",
   "execution_count": 9,
   "id": "64594d24",
   "metadata": {},
   "outputs": [
    {
     "data": {
      "image/png": "[encoded data removed]",
      "text/plain": [
       "<Figure size 1152x432 with 1 Axes>"
      ]
     },
     "metadata": {
      "needs_background": "light"
     },
     "output_type": "display_data"
    }
   ],
   "source": [
    "# Plot the date x Values\n",
    "fig, ax = plt.subplots(figsize = (16,6))\n",
    "ax.plot(date_1, value_RGDP, linewidth= 2, alpha=1.0, label=\"Real Potential Gross Domestic Product\")\n",
    "plt.legend()\n",
    "plt.show()"
   ]
  },
  {
   "cell_type": "markdown",
   "id": "eff29e6d",
   "metadata": {},
   "source": [
    "### Gross Domestic Product"
   ]
  },
  {
   "cell_type": "markdown",
   "id": "3deb9ef3",
   "metadata": {},
   "source": [
    "#### What is GDP ?\n",
    "\n",
    "Is the total monetary of finished goods and services produced within a country's borders in a specific time period to measure the total domestic production and function as a scorecard of given country's economic health"
   ]
  },
  {
   "cell_type": "code",
   "execution_count": 10,
   "id": "d95e4cc0",
   "metadata": {},
   "outputs": [],
   "source": [
    "# getting the data from quandl API\n",
    "df_2 = quandl.get('FRED/GDP')"
   ]
  },
  {
   "cell_type": "code",
   "execution_count": 11,
   "id": "9390dc10",
   "metadata": {},
   "outputs": [
    {
     "data": {
      "text/html": [
       "<div>\n",
       "<style scoped>\n",
       "    .dataframe tbody tr th:only-of-type {\n",
       "        vertical-align: middle;\n",
       "    }\n",
       "\n",
       "    .dataframe tbody tr th {\n",
       "        vertical-align: top;\n",
       "    }\n",
       "\n",
       "    .dataframe thead th {\n",
       "        text-align: right;\n",
       "    }\n",
       "</style>\n",
       "<table border=\"1\" class=\"dataframe\">\n",
       "  <thead>\n",
       "    <tr style=\"text-align: right;\">\n",
       "      <th></th>\n",
       "      <th>Value</th>\n",
       "    </tr>\n",
       "    <tr>\n",
       "      <th>Date</th>\n",
       "      <th></th>\n",
       "    </tr>\n",
       "  </thead>\n",
       "  <tbody>\n",
       "    <tr>\n",
       "      <th>1947-01-01</th>\n",
       "      <td>243.164</td>\n",
       "    </tr>\n",
       "    <tr>\n",
       "      <th>1947-04-01</th>\n",
       "      <td>245.968</td>\n",
       "    </tr>\n",
       "    <tr>\n",
       "      <th>1947-07-01</th>\n",
       "      <td>249.585</td>\n",
       "    </tr>\n",
       "    <tr>\n",
       "      <th>1947-10-01</th>\n",
       "      <td>259.745</td>\n",
       "    </tr>\n",
       "    <tr>\n",
       "      <th>1948-01-01</th>\n",
       "      <td>265.742</td>\n",
       "    </tr>\n",
       "  </tbody>\n",
       "</table>\n",
       "</div>"
      ],
      "text/plain": [
       "              Value\n",
       "Date               \n",
       "1947-01-01  243.164\n",
       "1947-04-01  245.968\n",
       "1947-07-01  249.585\n",
       "1947-10-01  259.745\n",
       "1948-01-01  265.742"
      ]
     },
     "execution_count": 11,
     "metadata": {},
     "output_type": "execute_result"
    }
   ],
   "source": [
    "# Verifing the dataset\n",
    "df_2.head()"
   ]
  },
  {
   "cell_type": "code",
   "execution_count": 12,
   "id": "daf9a827",
   "metadata": {},
   "outputs": [],
   "source": [
    "# Reset index\n",
    "GDP = df_2.reset_index()"
   ]
  },
  {
   "cell_type": "code",
   "execution_count": 13,
   "id": "909e28c3",
   "metadata": {},
   "outputs": [
    {
     "data": {
      "text/plain": [
       "Date     datetime64[ns]\n",
       "Value           float64\n",
       "dtype: object"
      ]
     },
     "execution_count": 13,
     "metadata": {},
     "output_type": "execute_result"
    }
   ],
   "source": [
    "# Verifing the data types\n",
    "GDP.dtypes"
   ]
  },
  {
   "cell_type": "code",
   "execution_count": 14,
   "id": "6d4cb9e5",
   "metadata": {},
   "outputs": [],
   "source": [
    "# Separating the values in two variables\n",
    "date_GDP = GDP[\"Date\"]\n",
    "value_GDP = GDP[\"Value\"]"
   ]
  },
  {
   "cell_type": "code",
   "execution_count": 15,
   "id": "d6f791c2",
   "metadata": {},
   "outputs": [
    {
     "data": {
      "image/png": "[encoded data removed]",
      "text/plain": [
       "<Figure size 1152x432 with 1 Axes>"
      ]
     },
     "metadata": {
      "needs_background": "light"
     },
     "output_type": "display_data"
    }
   ],
   "source": [
    "# Plotting the graphic and add a label to the line \n",
    "fig, ax = plt.subplots(figsize = (16,6))\n",
    "ax.plot(date_GDP, value_GDP, linewidth= 2, color='blue', alpha=0.7, label=\"Gross Domestic Product\")\n",
    "plt.legend()\n",
    "plt.show()"
   ]
  },
  {
   "cell_type": "markdown",
   "id": "01030480",
   "metadata": {},
   "source": [
    "### GDP Gap"
   ]
  },
  {
   "cell_type": "markdown",
   "id": "e0452947",
   "metadata": {},
   "source": [
    "#### What Is GDP Gap ?\n",
    "\n",
    "GDP gap is the difference between the actual GDP and the potencial GDP of an economy as represented by the long-term trend. A negative GDP gap represents the lost output of a country's economy resulting from the failure to create sufficient jobs. A positive GDP gap, generally signifies that an economy is overheated and at risk of high inflation"
   ]
  },
  {
   "cell_type": "code",
   "execution_count": 16,
   "id": "d3f866f4",
   "metadata": {},
   "outputs": [],
   "source": [
    "# Calculating the GDP Gap\n",
    "GDP_Gap = ((value_GDP - value_RGDP) / value_RGDP).dropna()"
   ]
  },
  {
   "cell_type": "code",
   "execution_count": 17,
   "id": "982a7766",
   "metadata": {},
   "outputs": [
    {
     "data": {
      "text/plain": [
       "0     -0.884372\n",
       "1     -0.884554\n",
       "2     -0.884416\n",
       "3     -0.881224\n",
       "4     -0.880083\n",
       "         ...   \n",
       "295    0.056891\n",
       "296    0.078945\n",
       "297    0.107715\n",
       "298    0.124512\n",
       "299    0.157036\n",
       "Name: Value, Length: 300, dtype: float64"
      ]
     },
     "execution_count": 17,
     "metadata": {},
     "output_type": "execute_result"
    }
   ],
   "source": [
    "# Analysing the output of GDP_Gap\n",
    "GDP_Gap"
   ]
  },
  {
   "cell_type": "code",
   "execution_count": 18,
   "id": "e19bae1b",
   "metadata": {},
   "outputs": [],
   "source": [
    "# Creating a DataFrame\n",
    "new_gd_gap = pd.DataFrame(GDP_Gap)"
   ]
  },
  {
   "cell_type": "code",
   "execution_count": 19,
   "id": "9360652e",
   "metadata": {},
   "outputs": [],
   "source": [
    "# Adding Date to DataFrame\n",
    "new_gd_gap['Date'] = date_GDP"
   ]
  },
  {
   "cell_type": "code",
   "execution_count": 20,
   "id": "4626874f",
   "metadata": {},
   "outputs": [],
   "source": [
    "# Separating the values in two variables\n",
    "date = new_gd_gap[\"Date\"]\n",
    "value = new_gd_gap[\"Value\"]"
   ]
  },
  {
   "cell_type": "code",
   "execution_count": 21,
   "id": "be3b50b5",
   "metadata": {
    "scrolled": false
   },
   "outputs": [
    {
     "data": {
      "text/plain": [
       "<matplotlib.legend.Legend at 0x16b5e811390>"
      ]
     },
     "execution_count": 21,
     "metadata": {},
     "output_type": "execute_result"
    },
    {
     "data": {
      "image/png": "[encoded data removed]",
      "text/plain": [
       "<Figure size 1152x432 with 1 Axes>"
      ]
     },
     "metadata": {
      "needs_background": "light"
     },
     "output_type": "display_data"
    }
   ],
   "source": [
    "# Plotting the graphic and add a label to the line \n",
    "fig, ax = plt.subplots(figsize = (16,6))\n",
    "ax.plot(date, value, linewidth= 2, color='green', alpha=0.7, label=\"Gross Domestic Product Gap\")\n",
    "plt.legend()"
   ]
  },
  {
   "cell_type": "code",
   "execution_count": null,
   "id": "3d645e90",
   "metadata": {},
   "outputs": [],
   "source": []
  }
 ],
 "metadata": {
  "kernelspec": {
   "display_name": "Python 3 (ipykernel)",
   "language": "python",
   "name": "python3"
  },
  "language_info": {
   "codemirror_mode": {
    "name": "ipython",
    "version": 3
   },
   "file_extension": ".py",
   "mimetype": "text/x-python",
   "name": "python",
   "nbconvert_exporter": "python",
   "pygments_lexer": "ipython3",
   "version": "3.7.1"
  }
 },
 "nbformat": 4,
 "nbformat_minor": 5
}
